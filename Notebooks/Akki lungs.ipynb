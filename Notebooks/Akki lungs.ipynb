{
 "cells": [
  {
   "cell_type": "code",
   "execution_count": 9,
   "id": "20c8c6dd-3362-4817-8e8b-240b083925bd",
   "metadata": {},
   "outputs": [],
   "source": [
    "import os\n",
    "import cv2\n",
    "import numpy as np\n",
    "import mahotas\n",
    "import pandas as pd\n",
    "from sklearn.model_selection import train_test_split\n",
    "from sklearn.preprocessing import LabelEncoder, StandardScaler\n",
    "from sklearn.linear_model import LogisticRegression\n",
    "from sklearn.metrics import classification_report, accuracy_score\n",
    "from skimage.feature import hog\n",
    "\n",
    "# Load images and labels\n",
    "base_path = 'C:/Users/Aakansh/Lung Classification/Lung-X-Ray-Project/Database/'\n",
    "categories = ['Lung_Opacity', 'Normal', 'Viral Pneumonia']\n",
    "data, labels = [], []\n",
    "\n",
    "for category in categories:\n",
    "    path = os.path.join(base_path, category)\n",
    "    label = category\n",
    "    for img_name in os.listdir(path):\n",
    "        img_path = os.path.join(path, img_name)\n",
    "        img = cv2.imread(img_path, cv2.IMREAD_GRAYSCALE)  # Load in grayscale\n",
    "        img = cv2.resize(img, (128, 128))  # Resize to a fixed size\n",
    "        data.append(img)\n",
    "        labels.append(label)\n",
    "\n",
    "# Convert to arrays\n",
    "data = np.array(data)\n",
    "labels = np.array(labels)\n",
    "\n",
    "# Encode labels\n",
    "label_encoder = LabelEncoder()\n",
    "labels = label_encoder.fit_transform(labels)\n",
    "\n",
    "# Split the dataset\n",
    "X_train, X_test, y_train, y_test = train_test_split(data, labels, test_size=0.2, random_state=42)"
   ]
  },
  {
   "cell_type": "code",
   "execution_count": 11,
   "id": "f9d5b1a7-730e-42b6-b42c-5a54443cdc6c",
   "metadata": {},
   "outputs": [],
   "source": [
    "def preprocess_image(image):\n",
    "    \"\"\" Apply sharpening and histogram equalization \"\"\"\n",
    "    hist_eq = cv2.equalizeHist(image)\n",
    "    kernel = np.array([[0, -1, 0], [-1, 5, -1], [0, -1, 0]])\n",
    "    sharpened = cv2.filter2D(hist_eq, -1, kernel)\n",
    "    return sharpened\n",
    "\n",
    "# Preprocess images\n",
    "X_train_processed = np.array([preprocess_image(img) for img in X_train])\n",
    "X_test_processed = np.array([preprocess_image(img) for img in X_test])"
   ]
  },
  {
   "cell_type": "code",
   "execution_count": 13,
   "id": "a237b0a2-55bc-4a7c-91bd-16cf664d301f",
   "metadata": {},
   "outputs": [],
   "source": [
    "def extract_sift_features(images, max_features=128):\n",
    "    sift = cv2.SIFT_create()\n",
    "    features = []\n",
    "    for img in images:\n",
    "        keypoints, descriptors = sift.detectAndCompute(img, None)\n",
    "        if descriptors is None:\n",
    "            descriptors = np.zeros((1, max_features))\n",
    "        flattened = descriptors.flatten()\n",
    "        flattened = np.pad(flattened, (0, max(0, max_features - len(flattened))), mode='constant')[:max_features]\n",
    "        features.append(flattened)\n",
    "    return np.array(features)\n",
    "\n",
    "def extract_hog_features(images):\n",
    "    features = []\n",
    "    for img in images:\n",
    "        hog_features = hog(img, orientations=9, pixels_per_cell=(8, 8),\n",
    "                           cells_per_block=(2, 2), block_norm='L2-Hys', visualize=False)\n",
    "        features.append(hog_features)\n",
    "    return np.array(features)\n",
    "\n",
    "def extract_lbp_features(images):\n",
    "    features = []\n",
    "    for img in images:\n",
    "        lbp = mahotas.features.lbp(img, radius=2, points=16, ignore_zeros=False)\n",
    "        features.append(lbp)\n",
    "    return np.array(features)\n",
    "\n",
    "# Extract Features\n",
    "sift_features = extract_sift_features(X_train_processed)\n",
    "hog_features = extract_hog_features(X_train_processed)\n",
    "lbp_features = extract_lbp_features(X_train_processed)\n",
    "X_train_features = np.hstack((sift_features, hog_features, lbp_features))\n",
    "\n",
    "# Repeat for test data\n",
    "sift_test_features = extract_sift_features(X_test_processed)\n",
    "hog_test_features = extract_hog_features(X_test_processed)\n",
    "lbp_test_features = extract_lbp_features(X_test_processed)\n",
    "X_test_features = np.hstack((sift_test_features, hog_test_features, lbp_test_features))"
   ]
  },
  {
   "cell_type": "code",
   "execution_count": 15,
   "id": "97ca31fb-6127-4cb4-89f5-9f474a236aac",
   "metadata": {},
   "outputs": [
    {
     "name": "stdout",
     "output_type": "stream",
     "text": [
      "Classification Report:\n",
      "              precision    recall  f1-score   support\n",
      "\n",
      "           0       0.86      0.82      0.84       248\n",
      "           1       0.83      0.82      0.82       238\n",
      "           2       0.92      0.99      0.95       209\n",
      "\n",
      "    accuracy                           0.87       695\n",
      "   macro avg       0.87      0.88      0.87       695\n",
      "weighted avg       0.87      0.87      0.87       695\n",
      "\n",
      "Accuracy: 0.8705035971223022\n"
     ]
    }
   ],
   "source": [
    "# Standardize features\n",
    "scaler = StandardScaler()\n",
    "X_train_features = scaler.fit_transform(X_train_features)\n",
    "X_test_features = scaler.transform(X_test_features)\n",
    "\n",
    "# Train logistic regression model\n",
    "model = LogisticRegression(max_iter=1000, random_state=42, solver='lbfgs', C=10)\n",
    "model.fit(X_train_features, y_train)\n",
    "\n",
    "# Predict on test set\n",
    "y_pred = model.predict(X_test_features)\n",
    "\n",
    "# Evaluate model\n",
    "print(\"Classification Report:\")\n",
    "print(classification_report(y_test, y_pred))\n",
    "print(\"Accuracy:\", accuracy_score(y_test, y_pred))"
   ]
  },
  {
   "cell_type": "code",
   "execution_count": 17,
   "id": "e4e79599-57fc-486b-9c71-09fbde38aa9a",
   "metadata": {},
   "outputs": [
    {
     "name": "stdout",
     "output_type": "stream",
     "text": [
      "Predicted Class: ['Lung_Opacity']\n"
     ]
    }
   ],
   "source": [
    "# Predict a new image\n",
    "def preprocess_and_extract(image):\n",
    "    image = preprocess_image(image)\n",
    "    sift_features = extract_sift_features([image])\n",
    "    hog_features = extract_hog_features([image])\n",
    "    lbp_features = extract_lbp_features([image])\n",
    "    features = np.hstack((sift_features, hog_features, lbp_features))\n",
    "    return scaler.transform(features)\n",
    "\n",
    "new_image = cv2.imread('../Sample_Test/LO/3.jpg', cv2.IMREAD_GRAYSCALE)\n",
    "new_image = cv2.resize(new_image, (128, 128))\n",
    "new_features = preprocess_and_extract(new_image)\n",
    "prediction = model.predict(new_features)\n",
    "print(\"Predicted Class:\", label_encoder.inverse_transform(prediction))\n"
   ]
  },
  {
   "cell_type": "code",
   "execution_count": null,
   "id": "fdc493ba-4a33-40cc-98d3-e92a5343cdb6",
   "metadata": {},
   "outputs": [],
   "source": []
  }
 ],
 "metadata": {
  "kernelspec": {
   "display_name": "Python [conda env:base] *",
   "language": "python",
   "name": "conda-base-py"
  },
  "language_info": {
   "codemirror_mode": {
    "name": "ipython",
    "version": 3
   },
   "file_extension": ".py",
   "mimetype": "text/x-python",
   "name": "python",
   "nbconvert_exporter": "python",
   "pygments_lexer": "ipython3",
   "version": "3.12.7"
  }
 },
 "nbformat": 4,
 "nbformat_minor": 5
}
