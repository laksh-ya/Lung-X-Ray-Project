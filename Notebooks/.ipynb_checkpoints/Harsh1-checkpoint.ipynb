{
 "cells": [
  {
   "cell_type": "code",
   "execution_count": null,
   "id": "92cd56c5-84c9-4603-98c8-a43a282a0868",
   "metadata": {},
   "outputs": [],
   "source": [
    "import os\n",
    "import cv2\n",
    "import numpy as np\n",
    "import tensorflow as tf\n",
    "from tensorflow.keras.applications import ResNet50\n",
    "from tensorflow.keras.models import Model\n",
    "from tensorflow.keras.preprocessing.image import ImageDataGenerator\n",
    "from imblearn.over_sampling import SMOTE\n",
    "from sklearn.model_selection import train_test_split, GridSearchCV\n",
    "from sklearn.preprocessing import LabelEncoder, StandardScaler\n",
    "from sklearn.linear_model import LogisticRegression\n",
    "from sklearn.metrics import classification_report, accuracy_score\n",
    "\n",
    "# -----------------------------\n",
    "# 1. Data Loading with Data Augmentation\n",
    "# -----------------------------\n",
    "base_path = '../Database/'\n",
    "data, labels = [], []\n",
    "\n",
    "data_gen = ImageDataGenerator(\n",
    "    rotation_range=20,\n",
    "    width_shift_range=0.2,\n",
    "    height_shift_range=0.2,\n",
    "    horizontal_flip=True,\n",
    "    zoom_range=0.1\n",
    ")\n",
    "\n",
    "# Load Normal images (class = \"Normal\")\n",
    "normal_path = os.path.join(base_path, \"Normal\")\n",
    "for img_name in os.listdir(normal_path):\n",
    "    img_path = os.path.join(normal_path, img_name)\n",
    "    img = cv2.imread(img_path, cv2.IMREAD_GRAYSCALE)\n",
    "    if img is None:\n",
    "        continue\n",
    "    img = cv2.resize(img, (128, 128))\n",
    "    data.append(img)\n",
    "    labels.append(\"Normal\")\n",
    "\n",
    "# Merge Lung Disease images from \"Lung_Opacity\" and \"Viral Pneumonia\" into one class (\"Lung_Disease\")\n",
    "lung_folders = [\"Lung_Opacity\", \"Viral Pneumonia\"]\n",
    "for folder in lung_folders:\n",
    "    folder_path = os.path.join(base_path, folder)\n",
    "    for img_name in os.listdir(folder_path):\n",
    "        img_path = os.path.join(folder_path, img_name)\n",
    "        img = cv2.imread(img_path, cv2.IMREAD_GRAYSCALE)\n",
    "        if img is None:\n",
    "            continue\n",
    "        img = cv2.resize(img, (128, 128))\n",
    "        data.append(img)\n",
    "        labels.append(\"Lung_Disease\")\n",
    "\n",
    "data = np.array(data).astype('float32') / 255.0  # Normalize images\n",
    "labels = np.array(labels)\n",
    "\n",
    "# Encode labels (e.g., Normal=0, Lung_Disease=1)\n",
    "label_encoder = LabelEncoder()\n",
    "labels_encoded = label_encoder.fit_transform(labels)\n",
    "\n",
    "# Split dataset\n",
    "X_train, X_test, y_train, y_test = train_test_split(\n",
    "    data, labels_encoded, test_size=0.2, random_state=42, stratify=labels_encoded\n",
    ")\n",
    "\n",
    "# -----------------------------\n",
    "# 2. CNN Feature Extraction (Using Modified ResNet50)\n",
    "# -----------------------------\n",
    "base_model = ResNet50(weights='imagenet', include_top=False, input_shape=(128, 128, 3))\n",
    "\n",
    "x = tf.keras.layers.GlobalAveragePooling2D()(base_model.output)\n",
    "x = tf.keras.layers.Dense(512, activation='relu')(x)  # Added Fully Connected Layer\n",
    "x = tf.keras.layers.Dropout(0.5)(x)  # Dropout to prevent overfitting\n",
    "x = tf.keras.layers.Dense(256, activation='relu')(x)  # Second Fully Connected Layer\n",
    "x = tf.keras.layers.Dropout(0.5)(x)  # Dropout to prevent overfitting\n",
    "x = tf.keras.layers.Dense(128, activation='relu')(x) \n",
    "feature_extractor = Model(inputs=base_model.input, outputs=x)\n",
    "\n",
    "def extract_cnn_features(images):\n",
    "    \"\"\"\n",
    "    Extract features using the modified ResNet50.\n",
    "    \"\"\"\n",
    "    images = np.repeat(images[..., np.newaxis], 3, axis=-1)  # Convert grayscale to 3-channel\n",
    "    return feature_extractor.predict(images)\n",
    "\n",
    "X_train_features = extract_cnn_features(X_train)\n",
    "X_test_features = extract_cnn_features(X_test)\n",
    "\n",
    "# -----------------------------\n",
    "# 3. Handle Imbalance Using SMOTE\n",
    "# -----------------------------\n",
    "smote = SMOTE(random_state=42)\n",
    "X_train_features, y_train = smote.fit_resample(X_train_features, y_train)\n",
    "\n",
    "# -----------------------------\n",
    "# 4. Feature Scaling\n",
    "# -----------------------------\n",
    "scaler = StandardScaler()\n",
    "X_train_features = scaler.fit_transform(X_train_features)\n",
    "X_test_features = scaler.transform(X_test_features)\n",
    "\n",
    "# -----------------------------\n",
    "# 5. Model Training with Hyperparameter Tuning\n",
    "# -----------------------------\n",
    "param_grid = {'C': [0.001, 0.01, 0.1, 1, 10, 100], 'max_iter': [1000, 2000, 3000]}\n",
    "grid = GridSearchCV(\n",
    "    LogisticRegression(random_state=42, solver='lbfgs'),\n",
    "    param_grid, cv=5, n_jobs=-1\n",
    ")\n",
    "grid.fit(X_train_features, y_train)\n",
    "print(\"Best parameters:\", grid.best_params_)\n",
    "model = grid.best_estimator_\n",
    "\n",
    "# -----------------------------\n",
    "# 6. Evaluation\n",
    "# -----------------------------\n",
    "y_pred = model.predict(X_test_features)\n",
    "print(\"Classification Report:\")\n",
    "print(classification_report(y_test, y_pred))\n",
    "print(\"Accuracy:\", accuracy_score(y_test, y_pred))\n",
    "\n",
    "# -----------------------------\n",
    "# 7. Prediction on a New Image\n",
    "# -----------------------------\n",
    "def preprocess_and_extract(image):\n",
    "    \"\"\"\n",
    "    Apply the same pipeline to a new image: extract CNN features and scale.\n",
    "    \"\"\"\n",
    "    image = cv2.resize(image, (128, 128)).astype('float32') / 255.0\n",
    "    image = np.repeat(image[..., np.newaxis], 3, axis=-1)  # Convert grayscale to 3-channel\n",
    "    features = feature_extractor.predict(np.array([image]))\n",
    "    return scaler.transform(features)\n",
    "\n",
    "new_image = cv2.imread('../Sample_Test/VN1/5.jpeg', cv2.IMREAD_GRAYSCALE)\n",
    "pred_features = preprocess_and_extract(new_image)\n",
    "prediction = model.predict(pred_features)\n",
    "print(\"Predicted Class:\", label_encoder.inverse_transform(prediction))\n"
   ]
  },
  {
   "cell_type": "code",
   "execution_count": 5,
   "id": "8925be9f-1ed8-4b0e-ae29-4d884b856089",
   "metadata": {},
   "outputs": [
    {
     "name": "stdout",
     "output_type": "stream",
     "text": [
      "TensorFlow Device: \n"
     ]
    }
   ],
   "source": [
    "import tensorflow as tf\n",
    "\n",
    "# Check which device TensorFlow is using\n",
    "print(\"TensorFlow Device:\", tf.test.gpu_device_name())\n",
    "\n"
   ]
  },
  {
   "cell_type": "code",
   "execution_count": 8,
   "id": "21d6e3de-f327-43f0-b6fb-7e7f4afc0504",
   "metadata": {},
   "outputs": [
    {
     "name": "stdout",
     "output_type": "stream",
     "text": [
      "TensorFlow Version: 2.18.0\n",
      "Built with CUDA: False\n",
      "GPU Available: []\n"
     ]
    }
   ],
   "source": [
    "import tensorflow as tf\n",
    "print(\"TensorFlow Version:\", tf.__version__)\n",
    "print(\"Built with CUDA:\", tf.test.is_built_with_cuda())\n",
    "print(\"GPU Available:\", tf.config.list_physical_devices('GPU'))\n",
    "\n"
   ]
  },
  {
   "cell_type": "code",
   "execution_count": 1,
   "id": "f1be7c54-2d15-4ccc-871d-e3adf7f94d1f",
   "metadata": {},
   "outputs": [
    {
     "name": "stdout",
     "output_type": "stream",
     "text": [
      "TensorFlow Version: 2.18.0\n",
      "GPU Available: []\n"
     ]
    }
   ],
   "source": [
    "import tensorflow as tf\n",
    "print(\"TensorFlow Version:\", tf.__version__)\n",
    "print(\"GPU Available:\", tf.config.list_physical_devices('GPU'))\n"
   ]
  },
  {
   "cell_type": "code",
   "execution_count": null,
   "id": "faaaf52d-a96c-4bf7-8e04-200e046a0aa4",
   "metadata": {},
   "outputs": [],
   "source": []
  }
 ],
 "metadata": {
  "kernelspec": {
   "display_name": "Python 3 (ipykernel)",
   "language": "python",
   "name": "python3"
  },
  "language_info": {
   "codemirror_mode": {
    "name": "ipython",
    "version": 3
   },
   "file_extension": ".py",
   "mimetype": "text/x-python",
   "name": "python",
   "nbconvert_exporter": "python",
   "pygments_lexer": "ipython3",
   "version": "3.12.3"
  }
 },
 "nbformat": 4,
 "nbformat_minor": 5
}
